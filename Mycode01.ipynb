{
 "cells": [
  {
   "cell_type": "markdown",
   "id": "bcba0172-5826-4bb0-9890-7fadcacd3b12",
   "metadata": {},
   "source": [
    "print('hello world, my name is kiet') "
   ]
  },
  {
   "cell_type": "code",
   "execution_count": 5,
   "id": "1426a31d-1073-404c-8577-d73fb4a3e43f",
   "metadata": {},
   "outputs": [
    {
     "name": "stdout",
     "output_type": "stream",
     "text": [
      "hello world\n"
     ]
    }
   ],
   "source": [
    "print('hello world')"
   ]
  },
  {
   "cell_type": "markdown",
   "id": "03c64dce-9499-45b8-a6a3-bb6f236b9327",
   "metadata": {},
   "source": [
    "# (Bài 1: Python cơ bản) "
   ]
  },
  {
   "cell_type": "markdown",
   "id": "b87a4a30-ee6e-4be7-9a79-4ed2fb5652c5",
   "metadata": {},
   "source": [
    "$$\r\n",
    "\\int_a^b f(x)\\,dx = F(b) - F(a)\r\n",
    "$$\r\n"
   ]
  },
  {
   "cell_type": "code",
   "execution_count": null,
   "id": "e4de4102-2e2f-4a89-b8a8-4d89cc062a43",
   "metadata": {},
   "outputs": [],
   "source": []
  }
 ],
 "metadata": {
  "kernelspec": {
   "display_name": "Python 3 (ipykernel)",
   "language": "python",
   "name": "python3"
  },
  "language_info": {
   "codemirror_mode": {
    "name": "ipython",
    "version": 3
   },
   "file_extension": ".py",
   "mimetype": "text/x-python",
   "name": "python",
   "nbconvert_exporter": "python",
   "pygments_lexer": "ipython3",
   "version": "3.12.4"
  }
 },
 "nbformat": 4,
 "nbformat_minor": 5
}
